{
 "cells": [
  {
   "cell_type": "markdown",
   "metadata": {},
   "source": [
    "# PROJECT: NYC Citibike Rides"
   ]
  },
  {
   "cell_type": "markdown",
   "metadata": {},
   "source": [
    "Created on Mon Sep 23"
   ]
  },
  {
   "cell_type": "markdown",
   "metadata": {},
   "source": [
    "@author: Michael ODonnell"
   ]
  },
  {
   "cell_type": "markdown",
   "metadata": {},
   "source": [
    "### import libraries"
   ]
  },
  {
   "cell_type": "code",
   "execution_count": 1,
   "metadata": {},
   "outputs": [],
   "source": [
    "# import libraries\n",
    "import pandas as pd\n",
    "import numpy as np\n",
    "from datetime import datetime\n",
    "from dateutil.parser import parse\n",
    "import matplotlib.pyplot as plt"
   ]
  },
  {
   "cell_type": "markdown",
   "metadata": {},
   "source": [
    "### import data"
   ]
  },
  {
   "cell_type": "code",
   "execution_count": null,
   "metadata": {},
   "outputs": [],
   "source": [
    "# IMPORT DATA\n",
    "citibike_rides_sep19 = pd.read_csv(\"data/201908-citibike-tripdata.csv\")\n",
    "citibike_rides_sep19 = citibike_rides_sep19[['starttime','tripduration', 'start station name', 'end station name']]\n",
    "\n",
    "citibike_rides_aug19 = pd.read_csv(\"data/201907-citibike-tripdata.csv\")\n",
    "citibike_rides_aug19 = citibike_rides_aug19[['starttime','tripduration', 'start station name', 'end station name']]\n",
    "\n",
    "citibike_rides_jul19 = pd.read_csv(\"data/201906-citibike-tripdata.csv\")\n",
    "citibike_rides_jul19 = citibike_rides_jul19[['starttime','tripduration', 'start station name', 'end station name']]\n",
    "\n",
    "citibike_rides_jun19 = pd.read_csv(\"data/201905-citibike-tripdata.csv\")\n",
    "citibike_rides_jun19 = citibike_rides_jun19[['starttime','tripduration', 'start station name', 'end station name']]\n",
    "\n",
    "citibike_rides_may19 = pd.read_csv(\"data/201904-citibike-tripdata.csv\")\n",
    "citibike_rides_may19 = citibike_rides_may19[['starttime','tripduration', 'start station name', 'end station name']]\n",
    "\n",
    "citibike_rides_apr19 = pd.read_csv(\"data/201903-citibike-tripdata.csv\")\n",
    "citibike_rides_apr19 = citibike_rides_apr19[['starttime','tripduration', 'start station name', 'end station name']]\n",
    "\n",
    "citibike_rides_mar19 = pd.read_csv(\"data/201902-citibike-tripdata.csv\")\n",
    "citibike_rides_mar19 = citibike_rides_mar19[['starttime','tripduration', 'start station name', 'end station name']]\n",
    "\n",
    "citibike_rides_feb19 = pd.read_csv(\"data/201901-citibike-tripdata.csv\")\n",
    "citibike_rides_feb19 = citibike_rides_feb19[['starttime','tripduration', 'start station name', 'end station name']]\n",
    "\n",
    "citibike_rides_jan19 = pd.read_csv(\"data/201812-citibike-tripdata.csv\")\n",
    "citibike_rides_jan19 = citibike_rides_jan19[['starttime','tripduration', 'start station name', 'end station name']]\n",
    "\n",
    "citibike_rides_dec18 = pd.read_csv(\"data/201811-citibike-tripdata.csv\")\n",
    "citibike_rides_dec18 = citibike_rides_dec18[['starttime','tripduration', 'start station name', 'end station name']]\n",
    "\n",
    "citibike_rides_nov18 = pd.read_csv(\"data/201810-citibike-tripdata.csv\")\n",
    "citibike_rides_nov18 = citibike_rides_nov18[['starttime','tripduration', 'start station name', 'end station name']]\n",
    "\n",
    "citibike_rides_oct18 = pd.read_csv(\"data/201809-citibike-tripdata.csv\")\n",
    "citibike_rides_oct18 = citibike_rides_oct18[['starttime','tripduration', 'start station name', 'end station name']]"
   ]
  },
  {
   "cell_type": "code",
   "execution_count": null,
   "metadata": {},
   "outputs": [],
   "source": [
    "### concat all dataframes into one dataframe\n",
    "frames = [citibike_rides_sep19, citibike_rides_aug19, citibike_rides_jul19,\n",
    "          citibike_rides_jun19, citibike_rides_may19, citibike_rides_apr19,\n",
    "          citibike_rides_mar19, citibike_rides_feb19, citibike_rides_jan19,\n",
    "          citibike_rides_dec18, citibike_rides_nov18, citibike_rides_oct18]\n",
    "citibike_rides = pd.concat(frames)"
   ]
  },
  {
   "cell_type": "markdown",
   "metadata": {},
   "source": [
    "### adjust data type of columns"
   ]
  },
  {
   "cell_type": "code",
   "execution_count": null,
   "metadata": {},
   "outputs": [],
   "source": [
    "# fix data type of each column\n",
    "citibike_rides[\"starttime\"] = pd.to_datetime(citibike_rides[\"starttime\"])\n",
    "citibike_rides[\"start station name\"] = citibike_rides[\"start station name\"].astype(str)\n",
    "citibike_rides[\"end station name\"] = citibike_rides[\"end station name\"].astype(str)\n",
    "print(citibike_rides.dtypes)"
   ]
  },
  {
   "cell_type": "markdown",
   "metadata": {},
   "source": [
    "### rename two columns"
   ]
  },
  {
   "cell_type": "code",
   "execution_count": null,
   "metadata": {},
   "outputs": [],
   "source": [
    "citibike_rides = citibike_rides.rename(columns={\"start station name\": \"start_station_name\", \"end station name\": \"end_station_name\"})\n"
   ]
  },
  {
   "cell_type": "markdown",
   "metadata": {},
   "source": [
    "### filter out citibike rides > 55 minutes"
   ]
  },
  {
   "cell_type": "code",
   "execution_count": null,
   "metadata": {},
   "outputs": [],
   "source": [
    "# filter out rides > 45 minutes\n",
    "citibike_rides = citibike_rides[(citibike_rides.tripduration <= 3300)]"
   ]
  },
  {
   "cell_type": "markdown",
   "metadata": {},
   "source": [
    "## print some summary statistics:"
   ]
  },
  {
   "cell_type": "code",
   "execution_count": null,
   "metadata": {},
   "outputs": [],
   "source": [
    "# number of citibike stations\n",
    "print(\"number of citibike stations:\", len(citibike_rides['start_station_name'].unique()))"
   ]
  },
  {
   "cell_type": "code",
   "execution_count": null,
   "metadata": {},
   "outputs": [],
   "source": [
    "# CITIBIKE FREQUENCY\n",
    "print(\"number of total rides:\", len(citibike_rides))\n",
    "print(\"Duration of dataframe:\", (citibike_rides['starttime'].max() - citibike_rides['starttime'].min()))\n",
    "print(\"number of rides/day:\", len(citibike_rides)/365)"
   ]
  },
  {
   "cell_type": "code",
   "execution_count": null,
   "metadata": {},
   "outputs": [],
   "source": [
    "# citibike rides by day of the week\n",
    "print(\"citibike rides by day of the week (Sunday = 0)\")\n",
    "print(citibike_rides[\"starttime\"].groupby(citibike_rides[\"starttime\"].dt.month).count())"
   ]
  },
  {
   "cell_type": "code",
   "execution_count": null,
   "metadata": {},
   "outputs": [],
   "source": [
    "# most popular month for citibike\n",
    "citibike_rides[\"starttime\"].groupby(citibike_rides[\"starttime\"].dt.month).count().plot(kind=\"barh\",figsize = (7,4))"
   ]
  },
  {
   "cell_type": "code",
   "execution_count": null,
   "metadata": {},
   "outputs": [],
   "source": [
    "# CITIBIKE RIDE DURATION\n",
    "print(\"mean ride duration:\", citibike_rides[\"tripduration\"].mean())\n",
    "print(\"median ride duration:\", citibike_rides[\"tripduration\"].median())"
   ]
  },
  {
   "cell_type": "code",
   "execution_count": null,
   "metadata": {},
   "outputs": [],
   "source": [
    "### citibike rides by time of day\n",
    "#print(citibike_rides[\"starttime\"].groupby(citibike_rides[\"starttime\"].dt.hour).count().plot(kind=\"bar\",figsize = (8,5)))"
   ]
  },
  {
   "cell_type": "code",
   "execution_count": null,
   "metadata": {},
   "outputs": [],
   "source": [
    "print(\"Most common pickup docks:\", citibike_rides[\"start station name\"].value_counts())"
   ]
  },
  {
   "cell_type": "markdown",
   "metadata": {},
   "source": [
    "## Calculate duration between popular commutor stations"
   ]
  },
  {
   "cell_type": "code",
   "execution_count": null,
   "metadata": {},
   "outputs": [],
   "source": [
    "# list of stations to calculate duration\n",
    "stations = [\"E 84 St & 1 Ave\",\n",
    "\"W 41 St & 8 Ave\",\n",
    "\"Broadway & W 60 St\",\n",
    "\"E 17 St & Broadway\",\n",
    "\"Fulton St & William St\",\n",
    "\"N 6 St & Bedford Ave\",\n",
    "\"E 7 St & Avenue A\",\n",
    "\"W 87 St & Amsterdam Ave\",\n",
    "\"9 Ave & W 28 St\",\n",
    "\"W 4 St & 7 Ave S\",\n",
    "\"Jay St & York St\",\n",
    "\"Norfolk St & Broome St\"]"
   ]
  },
  {
   "cell_type": "code",
   "execution_count": null,
   "metadata": {},
   "outputs": [],
   "source": [
    "# print mean duration of trips between stations\n",
    "\n",
    "for i in stations:\n",
    "    for j in stations:\n",
    "        print(i, \"to\", j, (citibike_rides[(citibike_rides.start_station_name == i) & (citibike_rides.end_station_name == j)]).tripduration.mean())"
   ]
  }
 ],
 "metadata": {
  "kernelspec": {
   "display_name": "Python 3",
   "language": "python",
   "name": "python3"
  },
  "language_info": {
   "codemirror_mode": {
    "name": "ipython",
    "version": 3
   },
   "file_extension": ".py",
   "mimetype": "text/x-python",
   "name": "python",
   "nbconvert_exporter": "python",
   "pygments_lexer": "ipython3",
   "version": "3.7.2"
  }
 },
 "nbformat": 4,
 "nbformat_minor": 2
}
